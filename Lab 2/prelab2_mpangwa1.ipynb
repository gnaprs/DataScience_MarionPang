{
  "nbformat": 4,
  "nbformat_minor": 0,
  "metadata": {
    "colab": {
      "name": "prelab(1).ipynb",
      "provenance": [],
      "collapsed_sections": []
    },
    "kernelspec": {
      "display_name": "Python 3",
      "language": "python",
      "name": "python3"
    },
    "language_info": {
      "codemirror_mode": {
        "name": "ipython",
        "version": 3
      },
      "file_extension": ".py",
      "mimetype": "text/x-python",
      "name": "python",
      "nbconvert_exporter": "python",
      "pygments_lexer": "ipython3",
      "version": "3.6.8"
    }
  },
  "cells": [
    {
      "cell_type": "markdown",
      "metadata": {
        "colab_type": "text",
        "id": "tTbiC0_eruI1"
      },
      "source": [
        "# Pre-lab description\n",
        "In this pre-lab we will learn how to implement gradient descent for finding local minima of a given cost function. This will provide us with a basic tool for many learning and classification problems since, at the end of the day, finding a classifier amounts to solving some optimization problem. In this lab we will also learn how gradient descent\n",
        "can be implemented using [PyTorch](https://pytorch.org/tutorials/), a scientific library for developing machine (deep) learning methods. Towards that goal, we will be learning a [linear classifier](https://en.wikipedia.org/wiki/Linear_classifier) on the [MNIST](https://en.wikipedia.org/wiki/MNIST_database) digit [dataset](http://yann.lecun.com/exdb/mnist/). As a loss function, we will be using a simple quadratic function. You will first apply your calculus skills to the problem, and analytically solve it. Then you will learn how to solve the same problem by implementing the gradient descent method and applying it to the cost function. Finally, you will learn the basics of PyTorch by using the built-in functions to train the classifier. This pre-lab assignment needs to be solved in this Notebook.\n",
        "\n",
        "## The data\n",
        "The MNIST database \\[[1](http://yann.lecun.com/exdb/mnist/)\\]\\[[2](https://en.wikipedia.org/wiki/MNIST_database)\\] consists of $28\\times 28$ grayscale images of handwritten digits, along with the correct label for each image. These are in the form of $28\\times 28$ matrices with the value of each index being an 8-bit integer ranging from 0 (black) to 255 (white), and one integer between 0 and 9, corresponding to the digit displayed in the image. The database is split into two separate training and testing sets.\n",
        "\n",
        "\n",
        "## Problem description\n",
        "We are given a set of $N$ feature-label pairs $\\big\\{\\big(\\boldsymbol x_i,c_i\\big)\\big\\}_{i=0}^{N-1}$ where each $\\boldsymbol x_i\\in\\mathbb{R}^p$ corresponds to a vectorized $28\\times28$ grayscale image of a digit, and $c_i=\\{0,1,\\ldots,9\\}$ is the digit's class. Since we are dealing with a multi-class classification problem we will encode each digit's class with a one-hot embedding vector as:\n",
        "$$\\boldsymbol y_i = [y_{i0},\\ldots, y_{in}],\\quad y_{ij} = \\begin{cases}1 &c_i = j\\\\0&\\textrm{else}\\end{cases}.$$\n",
        "The goal is then to find a prediction function $f:\\mathbb{R}^p\\mapsto\\{0,1\\}^n$ that maps features $\\boldsymbol x_i$ (images) to labels $\\boldsymbol y_i$. In order to do so, we will use a linear prediction function:\n",
        "\n",
        "$$f(\\boldsymbol x) = \\boldsymbol W \\boldsymbol x,\\quad \\boldsymbol W\\in\\mathbb{R}^{p\\times n},$$\n",
        "where the $j$th row of $\\boldsymbol W$ represents a predictor for the $j$th class. In order to decide upon the estimated class we take the strongest response of our set of predictors, that is:\n",
        "$$\\widehat{c}_i = \\arg\\max_{j}\\,\\boldsymbol W\\boldsymbol x_i.$$"
      ]
    },
    {
      "cell_type": "markdown",
      "metadata": {
        "id": "uY_ZjFC_cZk7",
        "colab_type": "text"
      },
      "source": [
        "## Problem formulation (optimization problem)\n",
        "With all previous considerations in mind we can now define the optimization problem to estimate the parameters $\\boldsymbol W$ of our linear predictor. In order to do that, we need to define some loss function on our predictions that penalizes deviations from the true target. For this problem, we will be using a simple quadratic loss function $L\\big(f(\\boldsymbol x),\\boldsymbol y\\big) = \\lVert \\boldsymbol y - f(\\boldsymbol x)\\rVert_2^2$. The goal is then to find the parameters $\\boldsymbol W$ of our linear predictor function $f(\\cdot)$ that minimize the average loss over the set of samples:\n",
        "$$\\min_{\\boldsymbol W}\\; \\frac{1}{N}\\sum_{i=0}^{N-1}\\lVert \\boldsymbol y_i - \\boldsymbol W\\boldsymbol x_i\\rVert_2^2.$$\n",
        "Note that the above optimization problem can be expressed in a compact form as:\n",
        "$$\\min_{\\boldsymbol W}\\; \\frac{1}{N}\\lVert \\boldsymbol Y - \\boldsymbol W\\boldsymbol X\\rVert_F^2,$$\n",
        "where $\\lVert\\cdot\\rVert_F$ is the Frobenius ($\\ell_2$) norm of a matrix, and where the matrices $\\boldsymbol Y=[\\boldsymbol y_0,\\ldots,\\boldsymbol y_{N-1}]$ and $\\boldsymbol X = [\\boldsymbol x_0,\\ldots,\\boldsymbol x_{N-1}]$ consist of stacking the label and feature vector representations, respectively."
      ]
    },
    {
      "cell_type": "markdown",
      "metadata": {
        "id": "slylWbSgcZk_",
        "colab_type": "text"
      },
      "source": [
        "**Exercise 1.** Given the feature and label matrices $\\boldsymbol X\\in\\mathbb{R}^{p\\times N}$ and $\\boldsymbol Y\\in\\mathbb{R}^{n\\times N}$, find a closed-form solution $\\boldsymbol W^\\star$ for the optimization problem:\n",
        "$$\\min_{\\boldsymbol W}\\; \\frac{1}{N}\\lVert \\boldsymbol Y - \\boldsymbol W\\boldsymbol X\\rVert_F^2.$$\n",
        "You can find the minimizer by setting the derivative of the cost function to zero."
      ]
    },
    {
      "cell_type": "markdown",
      "metadata": {
        "id": "2OBx0Gb8cZlE",
        "colab_type": "text"
      },
      "source": [
        "We first define that\n",
        "$$f(\\boldsymbol W):=\\frac{1}{N}||\\boldsymbol Y-\\boldsymbol W\\boldsymbol X||^2_F=\\frac{1}{N}tr((\\boldsymbol Y-\\boldsymbol W\\boldsymbol X)^T(\\boldsymbol Y-\\boldsymbol W\\boldsymbol X))$$\n",
        "We can then expand\n",
        "$$f (\\boldsymbol W)=\\frac{1}{N}tr((\\boldsymbol Y^T-\\boldsymbol X^T\\boldsymbol W^T)(\\boldsymbol Y-\\boldsymbol W\\boldsymbol X))$$\n",
        "$$=\\frac{1}{N}tr(\\boldsymbol Y^T\\boldsymbol Y-\\boldsymbol Y^T\\boldsymbol W\\boldsymbol X^T - \\boldsymbol X^T \\boldsymbol W^T \\boldsymbol Y+\\boldsymbol X^T\\boldsymbol W^T\\boldsymbol W\\boldsymbol X)$$\n",
        "\n",
        "In addition, we note that traces of a matrix are linear and hold a cyclic nature:\n",
        "$$tr(\\boldsymbol A+\\boldsymbol B)=tr(\\boldsymbol A)+tr(\\boldsymbol B)$$\n",
        "$$tr(\\boldsymbol X\\boldsymbol Y\\boldsymbol Z)=tr(\\boldsymbol Z\\boldsymbol X\\boldsymbol Y)=tr(\\boldsymbol Y \\boldsymbol Z \\boldsymbol X)$$\n",
        "\n",
        "\n",
        "Thus, we can rewrite\n",
        "$$f(\\boldsymbol W)=\\frac{1}{N}\\left(tr(\\boldsymbol Y^T\\boldsymbol Y)-tr(\\boldsymbol Y^T\\boldsymbol W\\boldsymbol X)-tr(\\boldsymbol X^T\\boldsymbol W^T\\boldsymbol Y)+tr(\\boldsymbol X^T\\boldsymbol W^T\\boldsymbol W\\boldsymbol X)\\right)$$\n",
        "\n",
        "\n",
        "---\n",
        "\n",
        "\n",
        "To find the derivative of the matrix, we note the following  matrix derivative properties:\n",
        "$$\\frac{\\delta}{\\delta \\boldsymbol X}tr[\\boldsymbol A\\boldsymbol X\\boldsymbol B]=\\boldsymbol A^T\\boldsymbol B^T$$\n",
        "$$\\frac{\\delta}{\\delta \\boldsymbol X}tr[\\boldsymbol A\\boldsymbol X^T\\boldsymbol B]=\\boldsymbol B\\boldsymbol A$$\n",
        "\n",
        "\n",
        "\n",
        "Thus, taking the derivative with respect to W, we obtain\n",
        "$$\\nabla_{\\boldsymbol W}f(\\boldsymbol W)=\\frac{1}{N}\\left(-\\boldsymbol Y\\boldsymbol X^T-\\boldsymbol Y\\boldsymbol X^T+2\\boldsymbol W\\boldsymbol X\\boldsymbol X^T\\right)$$\n",
        "\n",
        "Solving for the minima, we have $\\nabla_{\\boldsymbol W}f(\\boldsymbol W^*)=0$\n",
        "\n",
        "$$\\frac{2}{N}\\left(-\\boldsymbol Y\\boldsymbol X^T+\\boldsymbol W^*\\boldsymbol X\\boldsymbol X^T\\right)=0$$\n",
        "$$\\boldsymbol W^*\\boldsymbol X\\boldsymbol X^T=\\boldsymbol Y\\boldsymbol X^T$$\n",
        "$$\\boxed{\\boldsymbol W^*=\\boldsymbol Y\\boldsymbol X^T(\\boldsymbol X\\boldsymbol X^T)^{-1}=\\boldsymbol Y\\boldsymbol X^+}$$\n"
      ]
    },
    {
      "cell_type": "markdown",
      "metadata": {
        "colab_type": "text",
        "id": "o3tBC7c6QOi4"
      },
      "source": [
        "# Data loading and pre-processing\n",
        "\n",
        "First we need to download the data to Google Drive and pre-process it. The MNIST database is very well known and available to download in PyTorch using a [pre-defined function](https://pytorch.org/docs/stable/torchvision/datasets.html#mnist). Then, we scale and shift the images such that the value associated with each index lies between -1 and +1. Again, we can use pre-defined PyTorch [transform functions](https://pytorch.org/docs/stable/torchvision/transforms.html) to do so. This requires an extra step of casting the image to a `torch.Tensor` object. Tensors are multi-dimensional array objects that PyTorch uses as variables."
      ]
    },
    {
      "cell_type": "markdown",
      "metadata": {
        "colab_type": "text",
        "id": "0oL54kYHruI2"
      },
      "source": [
        "As usual, we start our Python code by importing the dependencies, and mounting Google Drive:"
      ]
    },
    {
      "cell_type": "code",
      "metadata": {
        "colab_type": "code",
        "id": "RXhX_Wh9ruI4",
        "outputId": "4796d48d-64e9-4aaf-f604-a526e99237e8",
        "colab": {
          "base_uri": "https://localhost:8080/",
          "height": 121
        }
      },
      "source": [
        "# import modules here\n",
        "import torch\n",
        "import torchvision\n",
        "import torchvision.transforms as transforms\n",
        "import numpy as np\n",
        "import matplotlib.pyplot as plt\n",
        "\n",
        "# inline plots for matplotlib\n",
        "%matplotlib inline\n",
        "\n",
        "# mount GDrive\n",
        "from google.colab import drive\n",
        "drive.mount('gdrive/')"
      ],
      "execution_count": 1,
      "outputs": [
        {
          "output_type": "stream",
          "text": [
            "Go to this URL in a browser: https://accounts.google.com/o/oauth2/auth?client_id=947318989803-6bn6qk8qdgf4n4g3pfee6491hc0brc4i.apps.googleusercontent.com&redirect_uri=urn%3Aietf%3Awg%3Aoauth%3A2.0%3Aoob&scope=email%20https%3A%2F%2Fwww.googleapis.com%2Fauth%2Fdocs.test%20https%3A%2F%2Fwww.googleapis.com%2Fauth%2Fdrive%20https%3A%2F%2Fwww.googleapis.com%2Fauth%2Fdrive.photos.readonly%20https%3A%2F%2Fwww.googleapis.com%2Fauth%2Fpeopleapi.readonly&response_type=code\n",
            "\n",
            "Enter your authorization code:\n",
            "··········\n",
            "Mounted at gdrive/\n"
          ],
          "name": "stdout"
        }
      ]
    },
    {
      "cell_type": "markdown",
      "metadata": {
        "colab_type": "text",
        "id": "mW4jxoUSTS8N"
      },
      "source": [
        "Next, we use the `torchvision.datasets.MNIST` command to load the database. For this purpose, make a folder named `prelab-02` inside a `bmdslab` directory in your Google Drive. As the database is very large and contains more images than we require, we use the PyTorch [dataloader function](https://pytorch.org/docs/stable/data.html#torch.utils.data.DataLoader) to load a certain number of images, along with their labels, as local varables: "
      ]
    },
    {
      "cell_type": "code",
      "metadata": {
        "colab_type": "code",
        "id": "YZ4kUG9qmREf",
        "colab": {}
      },
      "source": [
        "# set the seed of PyTorch random number generator for reproducibility\n",
        "torch.manual_seed(0)\n",
        "\n",
        "# define transformation object to be applied to the data, list of transformations through Compose\n",
        "# first convert to tensor\n",
        "# then subtract 0.5 to every entry\n",
        "transform = transforms.Compose([transforms.ToTensor(),transforms.Normalize((0.5,), (0.5,))])\n",
        "\n",
        "# download the data if not already in the specified directory\n",
        "trainset = torchvision.datasets.MNIST('gdrive/My Drive/bmdslab/prelab-02/', train=True, transform=transform, download=True)\n",
        "testset  = torchvision.datasets.MNIST('gdrive/My Drive/bmdslab/prelab-02/', train=False, transform=transform, download=True)\n",
        "\n",
        "# specify the number of points to be extracted at every iteration\n",
        "trainloader = torch.utils.data.DataLoader(trainset, batch_size=10000,shuffle=False) # 10,000 images from the training set\n",
        "testloader = torch.utils.data.DataLoader(testset, batch_size=1000,shuffle=False)    #  1,000 images from the testing set\n",
        "\n",
        "# create an iterator to return the data from the data loader\n",
        "dataiter = iter(trainloader)\n",
        "# loading the training data into the images and labels variables\n",
        "images, labels = dataiter.next()\n",
        "\n",
        "# similarly for the test data\n",
        "test_dataiter = iter(testloader)\n",
        "test_images, test_labels = test_dataiter.next()"
      ],
      "execution_count": 0,
      "outputs": []
    },
    {
      "cell_type": "code",
      "metadata": {
        "colab_type": "code",
        "id": "yLAlH2ZJklzK",
        "outputId": "4e2af3c1-6bf8-4728-977e-aeb565cc6710",
        "colab": {
          "base_uri": "https://localhost:8080/",
          "height": 50
        }
      },
      "source": [
        "# check the sizes to make sure you have done everything right:\n",
        "print(images.shape) # you should get [10000,1,28,28]\n",
        "print(labels.shape)"
      ],
      "execution_count": 3,
      "outputs": [
        {
          "output_type": "stream",
          "text": [
            "torch.Size([10000, 1, 28, 28])\n",
            "torch.Size([10000])\n"
          ],
          "name": "stdout"
        }
      ]
    },
    {
      "cell_type": "markdown",
      "metadata": {
        "id": "I9xcbjvycZlo",
        "colab_type": "text"
      },
      "source": [
        "Now your data is in the `images` variable. Let's just display an example."
      ]
    },
    {
      "cell_type": "code",
      "metadata": {
        "colab_type": "code",
        "id": "xkWWjQavl-sr",
        "outputId": "d4d4a698-2219-4af0-e076-6fc4630af7c3",
        "colab": {
          "base_uri": "https://localhost:8080/",
          "height": 286
        }
      },
      "source": [
        "# choose an index\n",
        "num_image = 5\n",
        "\n",
        "# for displaying an image we need to convert the tensor to a numpy array\n",
        "# the squeeze() function removes all redundant dimensions of the array i.e., \n",
        "# images[num_array] is a 1x1x28x28 array\n",
        "plt.imshow(images[num_image].numpy().squeeze(), cmap='gray');\n",
        "\n",
        "# maybe investigate the values:\n",
        "print(images[1,0,22,10].squeeze())"
      ],
      "execution_count": 4,
      "outputs": [
        {
          "output_type": "stream",
          "text": [
            "tensor(0.9843)\n"
          ],
          "name": "stdout"
        },
        {
          "output_type": "display_data",
          "data": {
            "image/png": "[encoded data removed]",
            "text/plain": [
              "<Figure size 432x288 with 1 Axes>"
            ]
          },
          "metadata": {
            "tags": []
          }
        }
      ]
    },
    {
      "cell_type": "code",
      "metadata": {
        "id": "jKdsXudscZlt",
        "colab_type": "code",
        "outputId": "801308e8-9718-4e56-d9d8-a051346df9c2",
        "colab": {
          "base_uri": "https://localhost:8080/",
          "height": 101
        }
      },
      "source": [
        "print(images[1,0,0:5,0:5].squeeze())"
      ],
      "execution_count": 0,
      "outputs": [
        {
          "output_type": "stream",
          "text": [
            "tensor([[-1., -1., -1., -1., -1.],\n",
            "        [-1., -1., -1., -1., -1.],\n",
            "        [-1., -1., -1., -1., -1.],\n",
            "        [-1., -1., -1., -1., -1.],\n",
            "        [-1., -1., -1., -1., -1.]])\n"
          ],
          "name": "stdout"
        }
      ]
    },
    {
      "cell_type": "markdown",
      "metadata": {
        "colab_type": "text",
        "id": "qn8imXYvX42f"
      },
      "source": [
        "**Exercise 2.** Using the data provided for training and the expression for the optimal predictor's weights derived in the previous exercise compute the optimal predictor over the training data. Apply also your predictor to the testing set. Report classification accuracy over both training and testing sets. "
      ]
    },
    {
      "cell_type": "markdown",
      "metadata": {
        "id": "DGgII3kOcZl2",
        "colab_type": "text"
      },
      "source": [
        "For a set of ground-truth labels $c_i$ and their corresponding estimates $\\widehat{c}_i$, the __accuracy__ is defined as:\n",
        "\n",
        "$$Acc = \\frac{1}{N}\\sum_{i=0}^{N-1}\\mathbb{1}\\big(c_i == \\widehat{c}_i\\big),\\quad \\mathbb{1}\\big(z\\big) = \\begin{cases}1&z\\; \\textrm{is true}\\\\0 &\\textrm{else}\\end{cases}.$$"
      ]
    },
    {
      "cell_type": "code",
      "metadata": {
        "colab_type": "code",
        "id": "IceYhRVam_LO",
        "outputId": "5a2778b6-8bf3-4d6a-bf62-c0a158e1e226",
        "colab": {
          "base_uri": "https://localhost:8080/",
          "height": 50
        }
      },
      "source": [
        "#---------------------training set----------------------------------------#\n",
        "# flatten images and test images (X vector)\n",
        "x_train=torch.squeeze(images.reshape(*images.shape[:2],-1))\n",
        "\n",
        "# remove mean from images\n",
        "for i in range(0,len(x_train)):\n",
        "  x_train[i]=x_train[i]-torch.mean(x_train[i])\n",
        "\n",
        "# making y_train from labels\n",
        "y_train=torch.zeros(10000,10)\n",
        "\n",
        "for i in range(0,len(labels)-1):\n",
        "  y_train[i,labels[i].int()]=1\n",
        "\n",
        "# find predictor regressor array W\n",
        "# Y * X^T * (X * X^T)^-1\n",
        "W=torch.matmul(torch.t(y_train),torch.t(torch.pinverse(x_train,rcond=1e-5)))\n",
        "\n",
        "# predicted Y based on x_train\n",
        "y_train_results=torch.mm(W,torch.t(x_train))\n",
        "y_train_acc=torch.argmax(torch.t(y_train_results), dim=1)\n",
        "\n",
        "sum_train_acc=0\n",
        "for i in range(0,len(labels)-1):\n",
        "  if labels[i]==y_train_acc[i]:\n",
        "    sum_train_acc=sum_train_acc+1\n",
        "\n",
        "train_acc=sum_train_acc/len(labels)\n",
        "\n",
        "print(\"The accuracy of the training set is\", train_acc)\n",
        "\n",
        "#---------------------testing set----------------------------------------#\n",
        "\n",
        "# using predictor on testing set\n",
        "\n",
        "# flatten images and test images (X vector)\n",
        "x_test=torch.squeeze(test_images.reshape(*test_images.shape[:2],-1))\n",
        "\n",
        "# remove mean from images\n",
        "for i in range(0,len(x_test)):\n",
        "  x_test[i]=x_test[i]-torch.mean(x_test[i])\n",
        "\n",
        "# making y_test from labels\n",
        "y_test=torch.zeros(1000,10)\n",
        "\n",
        "for i in range(0,len(test_labels)-1):\n",
        "  y_test[i,test_labels[i].int()]=1\n",
        "\n",
        "# predicted Y based on x_test\n",
        "\n",
        "y_test_results=torch.mm(W,torch.t(x_test))\n",
        "y_test_acc=torch.argmax(torch.t(y_test_results), dim=1)\n",
        "\n",
        "sum_test_acc=0\n",
        "for i in range(0,len(test_labels)-1):\n",
        "  if test_labels[i]==y_test_acc[i]:\n",
        "    sum_test_acc=sum_test_acc+1\n",
        "\n",
        "test_acc=sum_test_acc/len(test_labels)\n",
        "\n",
        "print(\"The accuracy of the testing set is\", test_acc)"
      ],
      "execution_count": 5,
      "outputs": [
        {
          "output_type": "stream",
          "text": [
            "The accuracy of the training set is 0.8766\n",
            "The accuracy of the testing set is 0.795\n"
          ],
          "name": "stdout"
        }
      ]
    },
    {
      "cell_type": "markdown",
      "metadata": {
        "colab_type": "text",
        "id": "Z2HEbvXhbVne"
      },
      "source": [
        "## Optimization via gradient descent\n",
        "The quadratic optimization problem considered in this pre-lab has a closed-form solution. In many practical cases however, a closed-form solution does not exist and the solution needs to be computed via an iterative method. Suppose we are given a smooth cost function $C(\\boldsymbol x)$ that we want to minimize over $\\boldsymbol x$. A very simple method to find a local minimizer of the function is to use a _gradient descent_ method. The main idea is to compute the gradient (derivative) of the cost function at a given point and move towards the direction opposite to the gradient of the function (recall that the gradient of a function gives you the direction of maximum variation of the signal). This process is repeated until convergence to a critical point of the cost function to be minimized. The general procedure for the gradient descent method at every iteration is given by the following update rule:\n",
        "$$\n",
        " \t\\boldsymbol x^{(k+1)} = \\boldsymbol x^{(k)} - \\mu \\nabla_{\\boldsymbol x} C\\big(\\boldsymbol x^{(k)}\\big),\n",
        "$$\n",
        "where $\\boldsymbol x^{(k)}$ denotes the estimate at $k$th iteration, $ \\nabla_{\\boldsymbol x} C\\big(\\cdot\\big)$ is the gradient of $C\\big(\\cdot\\big)$ with respect to $\\boldsymbol x$, and $\\mu$ is the step-size for the gradient descent updates."
      ]
    },
    {
      "cell_type": "markdown",
      "metadata": {
        "colab_type": "text",
        "id": "a52ffMcrYu1G"
      },
      "source": [
        "**Exercise 3.** _(Optional)_ Write down the equation for the gradient descent of the considered problem. Starting from an initial weight matrix of all zeros $\\boldsymbol W^{(0)}=\\boldsymbol 0$ implement a gradient descent optimization algorithm to find the optimal solution to our classification problem. Run the method for a sufficiently large number of iterations or until you meet some convergence criterion (_e.g.,_ relative change of the cost function smaller than some threshold). On two separate plots, display the evolution of the cost function over the iterations and the difference between your current estimate and the optimal estimate $\\lVert \\boldsymbol W^\\star - \\boldsymbol W^{(k)} \\rVert_F^2$. Since the considered cost function has a unique and global minimizer your iterates should converge to the optimal solution obtained from the analytical expression."
      ]
    },
    {
      "cell_type": "markdown",
      "metadata": {
        "colab_type": "text",
        "id": "hDnK4upde4F2"
      },
      "source": [
        "**Answer**\n",
        "Following the update rule, we can get every iteration of $\\boldsymbol W$ as followed:\n",
        "$$\\boldsymbol W^{(k)}=\\boldsymbol W^{(k-1)}-\\mu\\nabla_{\\boldsymbol W}C_(\\boldsymbol W^{(k)})$$\n",
        "\n",
        "From the earlier parts, we have\n",
        "$$\\nabla_{\\boldsymbol W}f(\\boldsymbol W)=\\frac{1}{N}\\left(-2\\boldsymbol Y\\boldsymbol X^T+2\\boldsymbol W\\boldsymbol X\\boldsymbol X^T\\right)$$\n",
        "\n",
        "Thus, we have\n",
        "$$\\boldsymbol W^{(k)}=\\boldsymbol W^{(k-1)}+\\frac{2\\mu}{N}\\left(\\boldsymbol Y\\boldsymbol X^T-\\boldsymbol W^{(k-1)}\\boldsymbol X\\boldsymbol X^T\\right)$$\n",
        "$$\\boldsymbol W^{(k)}=\\boldsymbol W^{(k-1)}+\\frac{2\\mu}{N}\\left((\\boldsymbol Y-\\boldsymbol W^{(k-1)} \\boldsymbol X)\\boldsymbol X^T\\right)$$\n"
      ]
    },
    {
      "cell_type": "code",
      "metadata": {
        "id": "cn4QoYxPBByx",
        "colab_type": "code",
        "colab": {
          "base_uri": "https://localhost:8080/",
          "height": 590
        },
        "outputId": "e3dc8c5c-c431-4bcf-f46b-c8cad69a14d5"
      },
      "source": [
        "import torch\n",
        "from torch.autograd import Variable\n",
        "\n",
        "# N is batch size; D_in is input dimension;\n",
        "# D_out is output dimension.\n",
        "N, D_in, D_out = 10000, 784, 10\n",
        "\n",
        "x = x_train\n",
        "y = y_train\n",
        "\n",
        "# Create Tensors of 0s for weights.\n",
        "w_0 = torch.zeros(D_in, D_out)\n",
        "\n",
        "# initialize variables\n",
        "m_learning_rate = 1e-6\n",
        "m_diff=10000\n",
        "m_t=0\n",
        "m_indices = []\n",
        "m_cf = []\n",
        "m_wdiff = []\n",
        "m_old_loss = 1000000000000\n",
        "\n",
        "while (m_diff>0.1 or m_t<3):\n",
        "    m_y_pred = torch.mm(x,w_0)\n",
        "    \n",
        "    # calculate cost function\n",
        "    muC=2*learning_rate/N*torch.mm(torch.t(y-m_y_pred),x)\n",
        "    m_loss = torch.norm(m_y_pred - y).pow(2)\n",
        "    m_diff=m_old_loss-m_loss.item()\n",
        "    \n",
        "    # calculate diff btw Ws\n",
        "    m_new_w=torch.t(w_0)\n",
        "    m_w_diff = torch.norm(W - m_new_w).pow(2)\n",
        "\n",
        "    # append to arrays\n",
        "    m_cf.append(m_loss.item())\n",
        "    m_wdiff.append(m_w_diff.item())\n",
        "    m_indices.append(m_t)\n",
        "\n",
        "    # update weights\n",
        "    w_0=w_0+torch.t(muC)\n",
        "\n",
        "    # reset variables\n",
        "    m_t=m_t+1\n",
        "    m_old_loss=m_loss.item()\n",
        "\n",
        "# plot cost function graph\n",
        "plt.figure()\n",
        "plt.plot(m_indices,m_cf)\n",
        "plt.title(\"Evolution of cost function\")\n",
        "plt.ylabel(\"CF\")\n",
        "plt.xlabel(\"Iterations\")\n",
        "plt.yscale(\"log\")\n",
        "\n",
        "# plot difference between W\n",
        "plt.figure()\n",
        "plt.plot(m_indices,m_wdiff)\n",
        "plt.title(\"Difference between W and optimal W\")\n",
        "plt.ylabel(\"Difference\")\n",
        "plt.xlabel(\"Iterations\")"
      ],
      "execution_count": 67,
      "outputs": [
        {
          "output_type": "execute_result",
          "data": {
            "text/plain": [
              "Text(0.5, 0, 'Iterations')"
            ]
          },
          "metadata": {
            "tags": []
          },
          "execution_count": 67
        },
        {
          "output_type": "display_data",
          "data": {
            "image/png": "[encoded data removed]",
            "text/plain": [
              "<Figure size 432x288 with 1 Axes>"
            ]
          },
          "metadata": {
            "tags": []
          }
        },
        {
          "output_type": "display_data",
          "data": {
            "image/png": "[encoded data removed]",
            "text/plain": [
              "<Figure size 432x288 with 1 Axes>"
            ]
          },
          "metadata": {
            "tags": []
          }
        }
      ]
    },
    {
      "cell_type": "code",
      "metadata": {
        "id": "X4_uCdVHMUM0",
        "colab_type": "code",
        "colab": {
          "base_uri": "https://localhost:8080/",
          "height": 50
        },
        "outputId": "cd4b55a4-01e0-487b-bbac-0d623c68e90e"
      },
      "source": [
        "# predicted autograd Y based on x_train\n",
        "m_y_train_results=torch.mm(torch.t(w_0),torch.t(x_train))\n",
        "m_y_train_acc=torch.argmax(torch.t(m_y_train_results), dim=1)\n",
        "\n",
        "m_sum_train_acc=0\n",
        "for i in range(0,len(labels)-1):\n",
        "  if labels[i]==m_y_train_acc[i]:\n",
        "    m_sum_train_acc=m_sum_train_acc+1\n",
        "\n",
        "m_train_acc=m_sum_train_acc/len(labels)\n",
        "\n",
        "# predicted autograd Y based on x_test\n",
        "m_y_test_results=torch.mm(torch.t(w_0),torch.t(x_test))\n",
        "m_y_test_acc=torch.argmax(torch.t(m_y_test_results), dim=1)\n",
        "\n",
        "m_sum_test_acc=0\n",
        "for i in range(0,len(test_labels)-1):\n",
        "  if test_labels[i]==m_y_test_acc[i]:\n",
        "    m_sum_test_acc=m_sum_test_acc+1\n",
        "\n",
        "m_test_acc=m_sum_test_acc/len(test_labels)\n",
        "\n",
        "print(\"The accuracy of the manual gradient descent on the training set is\", m_train_acc)\n",
        "print(\"The accuracy of the manual gradient descent on the testing set is\", m_test_acc)"
      ],
      "execution_count": 70,
      "outputs": [
        {
          "output_type": "stream",
          "text": [
            "The accuracy of the manual gradient descent on the training set is 0.7516\n",
            "The accuracy of the manual gradient descent on the testing set is 0.711\n"
          ],
          "name": "stdout"
        }
      ]
    },
    {
      "cell_type": "markdown",
      "metadata": {
        "colab_type": "text",
        "id": "DD3QUdwLKImc"
      },
      "source": [
        "*\n",
        "*Exercise 4.** Repeat the exercise before but now using PyTorch taking advantage of its automatic differentiation feature that will compute the gradients for you. Go to the [PyTorch tutorials](https://pytorch.org/tutorials/beginner/pytorch_with_examples.html) page in order to learn how to manipulate tensors with autograd. You can use random initialization for the weights $\\boldsymbol W^{(0)}$. Why initialization does not matter in this problem?"
      ]
    },
    {
      "cell_type": "code",
      "metadata": {
        "id": "qXavvVZhhTyg",
        "colab_type": "code",
        "outputId": "8c3b668a-df87-43b6-c3bb-d19f1a86c28b",
        "colab": {
          "base_uri": "https://localhost:8080/",
          "height": 590
        }
      },
      "source": [
        "import torch\n",
        "from torch.autograd import Variable\n",
        "\n",
        "# N is batch size; D_in is input dimension;\n",
        "# D_out is output dimension.\n",
        "N, D_in, D_out = 10000, 784, 10\n",
        "\n",
        "x = x_train\n",
        "y = y_train\n",
        "\n",
        "# Create random Tensors for weights.\n",
        "w1 = Variable(torch.randn(D_in, D_out), requires_grad=True)\n",
        "\n",
        "# initialize variables\n",
        "learning_rate = 1e-6\n",
        "diff=10000000\n",
        "t=0\n",
        "indices = []\n",
        "cf = []\n",
        "wdiff = []\n",
        "old_loss = 1000000000000\n",
        "\n",
        "while (diff>0.1):\n",
        "    y_pred = torch.mm(x,w1)\n",
        "    \n",
        "    # calculate loss function\n",
        "    loss = torch.norm(y_pred - y).pow(2)\n",
        "    diff=old_loss-loss.item()\n",
        "    \n",
        "    # calculate diff btw Ws\n",
        "    new_w=torch.t(w1)\n",
        "    w_diff = torch.norm(W - new_w).pow(2)\n",
        "\n",
        "    # append to arrays\n",
        "    cf.append(loss.item())\n",
        "    wdiff.append(w_diff.item())\n",
        "    indices.append(t)\n",
        "\n",
        "    # updating weights\n",
        "    loss.backward()\n",
        "    with torch.no_grad():\n",
        "        w1 -= learning_rate * w1.grad\n",
        "        w1.grad.zero_()\n",
        "\n",
        "    # reset variables\n",
        "    t=t+1\n",
        "    old_loss=loss.item()\n",
        "\n",
        "# plot cost function graph\n",
        "plt.figure()\n",
        "plt.plot(indices,cf)\n",
        "plt.title(\"Evolution of cost function\")\n",
        "plt.ylabel(\"CF\")\n",
        "plt.xlabel(\"Iterations\")\n",
        "plt.yscale(\"log\")\n",
        "\n",
        "# plot difference between W\n",
        "plt.figure()\n",
        "plt.plot(indices,wdiff)\n",
        "plt.title(\"Difference between W and optimal W\")\n",
        "plt.ylabel(\"Difference\")\n",
        "plt.xlabel(\"Iterations\")"
      ],
      "execution_count": 68,
      "outputs": [
        {
          "output_type": "execute_result",
          "data": {
            "text/plain": [
              "Text(0.5, 0, 'Iterations')"
            ]
          },
          "metadata": {
            "tags": []
          },
          "execution_count": 68
        },
        {
          "output_type": "display_data",
          "data": {
            "image/png": "[encoded data removed]",
            "text/plain": [
              "<Figure size 432x288 with 1 Axes>"
            ]
          },
          "metadata": {
            "tags": []
          }
        },
        {
          "output_type": "display_data",
          "data": {
            "image/png": "[encoded data removed]",
            "text/plain": [
              "<Figure size 432x288 with 1 Axes>"
            ]
          },
          "metadata": {
            "tags": []
          }
        }
      ]
    },
    {
      "cell_type": "code",
      "metadata": {
        "id": "ffJuO_2QIzW0",
        "colab_type": "code",
        "colab": {
          "base_uri": "https://localhost:8080/",
          "height": 50
        },
        "outputId": "f055220b-c299-439b-ef94-134604d5f1ad"
      },
      "source": [
        "# predicted autograd Y based on x_train\n",
        "autograd_y_train_results=torch.mm(torch.t(w1),torch.t(x_train))\n",
        "autograd_y_train_acc=torch.argmax(torch.t(autograd_y_train_results), dim=1)\n",
        "\n",
        "autograd_sum_train_acc=0\n",
        "for i in range(0,len(labels)-1):\n",
        "  if labels[i]==autograd_y_train_acc[i]:\n",
        "    autograd_sum_train_acc=autograd_sum_train_acc+1\n",
        "\n",
        "autograd_train_acc=autograd_sum_train_acc/len(labels)\n",
        "\n",
        "# predicted autograd Y based on x_test\n",
        "autograd_y_test_results=torch.mm(torch.t(w1),torch.t(x_test))\n",
        "autograd_y_test_acc=torch.argmax(torch.t(autograd_y_test_results), dim=1)\n",
        "\n",
        "autograd_sum_test_acc=0\n",
        "for i in range(0,len(test_labels)-1):\n",
        "  if test_labels[i]==autograd_y_test_acc[i]:\n",
        "    autograd_sum_test_acc=autograd_sum_test_acc+1\n",
        "\n",
        "autograd_test_acc=autograd_sum_test_acc/len(test_labels)\n",
        "\n",
        "print(\"The accuracy of pytorch's gradient descent on the training set is\", autograd_train_acc)\n",
        "print(\"The accuracy of pytorch's gradient descent on the testing set is\", autograd_test_acc)"
      ],
      "execution_count": 69,
      "outputs": [
        {
          "output_type": "stream",
          "text": [
            "The accuracy of pytorch's gradient descent on the training set is 0.8267\n",
            "The accuracy of pytorch's gradient descent on the testing set is 0.731\n"
          ],
          "name": "stdout"
        }
      ]
    },
    {
      "cell_type": "markdown",
      "metadata": {
        "id": "Skog4o3mYpKB",
        "colab_type": "text"
      },
      "source": [
        "### Why does initialization not matter in this question?\n",
        "As stated from above, since the considered cost function has a unique and global minimizer our iterates should converge to the optimal solution obtained from the analytical expression. \n",
        "\n",
        "Specifically, we calculated that for\n",
        "$$\\min_{\\boldsymbol W}\\; \\frac{1}{N}\\lVert \\boldsymbol Y - \\boldsymbol W\\boldsymbol X\\rVert_F^2,$$\n",
        "there exists a single global minima solving for \n",
        "$$\\nabla_{\\boldsymbol W}f(\\boldsymbol W)=\\frac{1}{N}\\left(-\\boldsymbol Y\\boldsymbol X^T-\\boldsymbol Y\\boldsymbol X^T+2\\boldsymbol W\\boldsymbol X\\boldsymbol X^T\\right)=0$$\n",
        "at exactly\n",
        "$$\\boxed{\\boldsymbol W^*=\\boldsymbol Y\\boldsymbol X^T(\\boldsymbol X\\boldsymbol X^T)^{-1}=\\boldsymbol Y\\boldsymbol X^+}$$\n",
        "\n",
        "Thus, gradient descent means that any $\\boldsymbol W^{(0)}$ over multiple iterations will eventually converge to the unique global minima $\\boldsymbol W^*$. "
      ]
    }
  ]
}