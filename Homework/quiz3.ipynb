{
  "nbformat": 4,
  "nbformat_minor": 0,
  "metadata": {
    "colab": {
      "name": "quiz3.ipynb",
      "provenance": [],
      "collapsed_sections": []
    },
    "kernelspec": {
      "name": "python3",
      "display_name": "Python 3"
    }
  },
  "cells": [
    {
      "cell_type": "markdown",
      "metadata": {
        "id": "OcGVerqSHjXe",
        "colab_type": "text"
      },
      "source": [
        "# Quiz 3\n",
        "\n",
        "```\n",
        "# Marion Pang (mpangwa1), marion.pang@jhu.edu, gnaprs\n",
        "```\n",
        "\n",
        "## Question 1\n",
        "Load the challenger o-ring data from here https://github.com/bcaffo/ds4bme_intro/blob/master/data/orings.csv\n",
        "1. Plot whether there was any o-ring failure (total > 0) versus temperature.\n",
        "2. Fit a logistic regression curve of o-ring failure (outcome) versus temperature.\n",
        "3. Plot the estimated sigmoid curve from the logistic regression fit on your plot from a.\n",
        "4. A new oring has a temperature of 74 degrees. What is the estimated probability of failure from your model?\n"
      ]
    },
    {
      "cell_type": "code",
      "metadata": {
        "id": "4Z7QcoumHb8p",
        "colab_type": "code",
        "colab": {}
      },
      "source": [
        "# import libraries\n",
        "import pandas as pd\n",
        "import numpy as np\n",
        "import seaborn as sns\n",
        "import matplotlib.pyplot as plt\n",
        "from scipy import stats as st\n",
        "import sklearn.linear_model as lm\n",
        "\n",
        "! if [ ! -e orings.csv ] ; \\\n",
        "  then wget https://raw.githubusercontent.com/bcaffo/ds4bme_intro/master/data/orings.csv; \\\n",
        "fi"
      ],
      "execution_count": 0,
      "outputs": []
    },
    {
      "cell_type": "code",
      "metadata": {
        "id": "q4EpGPkhICLy",
        "colab_type": "code",
        "outputId": "75b1a114-f5e5-4e06-cd9f-49413ec3a172",
        "colab": {
          "base_uri": "https://localhost:8080/",
          "height": 300
        }
      },
      "source": [
        "# data manipulation\n",
        "data1 = pd.read_csv(\"/content/orings.csv\").drop(['Unnamed: 0', 'Erosion', 'Blowby'], axis=1)\n",
        "data1['Total'][0] = 1\n",
        "\n",
        "sns.scatterplot(data1[\"Temperature\"], data1[\"Total\"])"
      ],
      "execution_count": 0,
      "outputs": [
        {
          "output_type": "execute_result",
          "data": {
            "text/plain": [
              "<matplotlib.axes._subplots.AxesSubplot at 0x7ff4d51a2c18>"
            ]
          },
          "metadata": {
            "tags": []
          },
          "execution_count": 61
        },
        {
          "output_type": "display_data",
          "data": {
            "image/png": "[encoded data removed]",
            "text/plain": [
              "<Figure size 432x288 with 1 Axes>"
            ]
          },
          "metadata": {
            "tags": []
          }
        }
      ]
    },
    {
      "cell_type": "code",
      "metadata": {
        "id": "9-G9huSeJ5vB",
        "colab_type": "code",
        "outputId": "eaf52298-05ce-4915-f10d-cac7459970d8",
        "colab": {
          "base_uri": "https://localhost:8080/",
          "height": 370
        }
      },
      "source": [
        "# fit logstical regression\n",
        "lr = lm.LogisticRegression(fit_intercept=True, solver='lbfgs',penalty='none')\n",
        "x=np.reshape(data1[\"Temperature\"].values, (-1, 1))\n",
        "y=np.reshape(data1[\"Total\"].values, (-1,1))\n",
        "fit = lr.fit(x, y)\n",
        "\n",
        "# print model parameters\n",
        "beta0, beta1 = [fit.intercept_[0], fit.coef_[0][0]]\n",
        "print([beta0, beta1])\n",
        "\n",
        "# plot sigmoid curve\n",
        "n = 1000\n",
        "xplot = np.linspace(min(data1[\"Temperature\"].values), max(data1[\"Temperature\"].values), n)\n",
        "eta = beta0 + beta1 * xplot\n",
        "p = 1 / (1 + np.exp(-eta))\n",
        "\n",
        "sns.scatterplot('Temperature', 'Total', data = data1, hue = 'Total')\n",
        "sns.lineplot(xplot, p)\n",
        "\n",
        "p = 1/(1+np.exp(-(beta0+beta1*74)))\n",
        "\n",
        "print(\"The estimated probability of failure is: \", p)"
      ],
      "execution_count": 0,
      "outputs": [
        {
          "output_type": "stream",
          "text": [
            "/usr/local/lib/python3.6/dist-packages/sklearn/utils/validation.py:724: DataConversionWarning: A column-vector y was passed when a 1d array was expected. Please change the shape of y to (n_samples, ), for example using ravel().\n",
            "  y = column_or_1d(y, warn=True)\n"
          ],
          "name": "stderr"
        },
        {
          "output_type": "stream",
          "text": [
            "[15.042901428042326, -0.23216274097407708]\n",
            "The estimated probability of failure is:  0.10553893819886488\n"
          ],
          "name": "stdout"
        },
        {
          "output_type": "display_data",
          "data": {
            "image/png": "[encoded data removed]",
            "text/plain": [
              "<Figure size 432x288 with 1 Axes>"
            ]
          },
          "metadata": {
            "tags": []
          }
        }
      ]
    },
    {
      "cell_type": "markdown",
      "metadata": {
        "id": "FbtxleepPJmr",
        "colab_type": "text"
      },
      "source": [
        "## Question 2\n",
        "\n",
        "Consider a logistic regression model \n",
        "$$P(Y_i=1 |  Xi) = \\frac{e^{\\beta_0(1-X_i)+\\beta_1X_i}}{1+e^{\\beta_0(1-X_i)+\\beta_1X_i}}$$\n",
        "\n",
        "where $X_i$ is either 0 or 1 depending on subject i’s group. We observe data pairs $(Y_i, X_i)$ where each $Y_i$ is either 0 or 1 and each $X_i$ is either 0 or 1. \n",
        "1. Write out the log likelihood that we would maximize to obtain estimates of the parameters.\n",
        "2. Split the log likelihood into two parts, one where $X_i=0$ and one where $X_i=1$. \n",
        "3. Argue that the estimates are\n",
        "$$\\hat{\\beta}_0=\\log{\\left(\\frac{\\hat{Y}_0}{1-\\hat{Y}_0}\\right)}$$\n",
        "$$\\hat{\\beta}_1=\\log{\\left(\\frac{\\hat{Y}_1}{1-\\hat{Y}_1}\\right)}$$\n",
        "where $\\bar{Y}_0$ is the proportion of 1’s where  $X_i=0$ and $\\bar{Y}_1$ is the proportion of 1’s where  $X_i=1$.\n"
      ]
    },
    {
      "cell_type": "markdown",
      "metadata": {
        "id": "_zl5VDa-QILj",
        "colab_type": "text"
      },
      "source": [
        "### a)\n",
        "Given that probabilities of independent things multiply, we obtain\n",
        "$$\\begin{equation}P(Y=Y|X)=\\prod_{i=1}^{n}\\left(\\frac{e^{\\beta_0(1-X_i)+\\beta_1X_i}}{1+e^{\\beta_0(1-X_i)+\\beta_1X_i}}\\right)^{Y_i}\\left(\\frac{1}{1+e^{\\beta_0(1-X_i)+\\beta_1X_i}}\\right)^{1-Y_i}\\end{equation} $$\n",
        "\n",
        "$$\\begin{equation} =\\prod_{i=1}^{n}\\left(e^{\\beta_0(1-X_i)+\\beta_1X_i}\\right)^{Y_i}\\left(1+e^{\\beta_0(1-X_i)+\\beta_1X_i}\\right)^{-1}=* \\end{equation}$$\n",
        "Taking the log, we obtain\n",
        "$$\\begin{equation}\\log(*) = \\log\\sum_{i=1}^{n}{(\\beta_0(1-X_i)+\\beta_iX_i)y_i}-\\sum_{i=1}^{n}\\log\\left(1+e^{\\beta_0(1-X_i)+\\beta_1X_i}\\right)\\end{equation} $$\n",
        "$$\\begin{equation}\\boxed{=n\\beta_0\\bar{Y}+(\\beta_1-\\beta_0)\\sum_{i=1}^{n}(X_iY_i)-\\sum_{i=1}^{n}\\log\\left(1+e^{\\beta_0(1-X_i)+\\beta_1X_i}\\right)} \\end{equation}$$\n",
        "### b)\n",
        "For $X_i=0$, we obtain\n",
        "$$\\begin{equation}\\log(*)=n\\beta_0\\bar{Y}_0-n\\log\\left(1+e^{\\beta_0}\\right)\\end{equation}$$\n",
        "Similarly for $X_i=1$, we obtain\n",
        "$$\\begin{equation}\\log(*)=n\\beta_0\\bar{Y}_1+(\\beta_1-\\beta_0)n\\bar{Y}_1-n\\log\\left(1+e^{\\beta_0}\\right)\\end{equation}$$\n",
        "$$\\begin{equation}=n\\beta_1\\bar{Y}_1-n\\log\\left(1+e^{\\beta_1}\\right)\\end{equation}$$\n",
        "Therefore, we obtain our final answer\n",
        "$$\\boxed{\\begin{equation}\n",
        "  \\gamma=\\log(*)=\n",
        "    \\begin{cases}\n",
        "      X_i=0 & \\text{$n\\beta_0\\bar{Y}_0-n\\log\\left(1+e^{\\beta_0}\\right)$}\\\\\n",
        "      X_i=1 & \\text{$n\\beta_1\\bar{Y}_1-n\\log\\left(1+e^{\\beta_1}\\right)$}\n",
        "    \\end{cases}       \n",
        "\\end{equation}}$$ \n",
        "\n",
        "### c) \n",
        "To obtain the estimates, we find $\\hat{\\beta}_i$ that maximizes  $\\gamma$. \n",
        "\n",
        "Differentiating with respect to $\\beta_0$, we obtain\n",
        "$$\\begin{equation}\\frac{\\delta{\\gamma}}{\\delta{\\beta_0}}=n\\bar{Y}_0-\\frac{ne^{\\beta_0}}{1+e^{\\beta_0}}=0\\end{equation}$$\n",
        "$$\\begin{equation}\\bar{Y}_0=\\frac{e^{\\beta_0}}{1+e^{\\beta_0}}\\end{equation}$$\n",
        "$$\\begin{equation}e^{\\beta_0}=\\frac{\\bar{Y}_0}{(1-\\bar{Y}_0)}\\end{equation}$$\n",
        "$$\\begin{equation}\\hat{\\beta}_0=\\log\\left(\\frac{\\bar{Y}_0}{1-\\bar{Y}_0}\\right)\\end{equation}$$\n",
        "\n",
        "Similarly, we differentiate with respect to $\\beta_1$ to obtain\n",
        "$$\\begin{equation}\\frac{\\delta{\\gamma}}{\\delta{\\beta_1}}=n\\bar{Y}_1-\\frac{ne^{\\beta_1}}{1+e^{\\beta_1}}=0\\end{equation}$$\n",
        "$$\\begin{equation}\\bar{Y}_1=\\frac{e^{\\beta_1}}{1+e^{\\beta_1}}\\end{equation}$$\n",
        "$$\\begin{equation}e^{\\beta_1}=\\frac{\\bar{Y}_1}{(1-\\bar{Y}_1)}\\end{equation}$$\n",
        "$$\\begin{equation}\\hat{\\beta}_1=\\log\\left(\\frac{\\bar{Y}_1}{1-\\bar{Y}_1}\\right)\\end{equation}$$\n",
        "\n",
        "Therefore, we obtain\n",
        "$$\\boxed{\\begin{equation}\n",
        "  \\beta_i=\n",
        "    \\begin{cases}\n",
        "      i=0 & \\text{$\\log\\left(\\frac{\\bar{Y}_0}{1-\\bar{Y}_0}\\right)$}\\\\\n",
        "      i=1 & \\text{$\\log\\left(\\frac{\\bar{Y}_1}{1-\\bar{Y}_1}\\right)$}\n",
        "    \\end{cases}       \n",
        "\\end{equation}}$$ "
      ]
    },
    {
      "cell_type": "markdown",
      "metadata": {
        "id": "TULVddbigI8h",
        "colab_type": "text"
      },
      "source": [
        "## Question 3\n",
        "\n",
        "The project will be to create an colab notebook report of a multivariate regression or logistic regression analysis. Pick out a dataset for analysis and print out the first 10 rows as a dataframe."
      ]
    },
    {
      "cell_type": "code",
      "metadata": {
        "id": "X2X6qDywguVS",
        "colab_type": "code",
        "outputId": "99b70f01-770b-4263-fb71-d058386e1a1f",
        "colab": {
          "resources": {
            "http://localhost:8080/nbextensions/google.colab/files.js": {
              "data": "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",
              "ok": true,
              "headers": [
                [
                  "content-type",
                  "application/javascript"
                ]
              ],
              "status": 200,
              "status_text": ""
            }
          },
          "base_uri": "https://localhost:8080/",
          "height": 91
        }
      },
      "source": [
        "# installing kaggle API and uploading API key\n",
        "! pip install -q kaggle\n",
        "from google.colab import files\n",
        "files.upload()"
      ],
      "execution_count": 0,
      "outputs": [
        {
          "output_type": "display_data",
          "data": {
            "text/html": [
              "\n",
              "     <input type=\"file\" id=\"files-236473e2-db35-4431-b63e-6951aff81b54\" name=\"files[]\" multiple disabled />\n",
              "     <output id=\"result-236473e2-db35-4431-b63e-6951aff81b54\">\n",
              "      Upload widget is only available when the cell has been executed in the\n",
              "      current browser session. Please rerun this cell to enable.\n",
              "      </output>\n",
              "      <script src=\"/nbextensions/google.colab/files.js\"></script> "
            ],
            "text/plain": [
              "<IPython.core.display.HTML object>"
            ]
          },
          "metadata": {
            "tags": []
          }
        },
        {
          "output_type": "stream",
          "text": [
            "Saving kaggle.json to kaggle.json\n"
          ],
          "name": "stdout"
        },
        {
          "output_type": "execute_result",
          "data": {
            "text/plain": [
              "{'kaggle.json': b'{\"username\":\"gnaprs\",\"key\":\"9b380f17a5e41404dd71150be714fd38\"}'}"
            ]
          },
          "metadata": {
            "tags": []
          },
          "execution_count": 72
        }
      ]
    },
    {
      "cell_type": "code",
      "metadata": {
        "id": "wd_wbi47xCEO",
        "colab_type": "code",
        "outputId": "69089733-555a-43d0-9565-8f85e12afef1",
        "colab": {
          "base_uri": "https://localhost:8080/",
          "height": 118
        }
      },
      "source": [
        "# downloading kaggle dataset\n",
        "! mkdir ~/.kaggle\n",
        "! cp kaggle.json ~/.kaggle/\n",
        "! chmod 600 ~/.kaggle/kaggle.json\n",
        "\n",
        "! kaggle datasets download -d svidon/osurankings\n",
        "! mkdir osurankings\n",
        "! unzip osurankings.zip -d osurankings\n"
      ],
      "execution_count": 0,
      "outputs": [
        {
          "output_type": "stream",
          "text": [
            "mkdir: cannot create directory ‘/root/.kaggle’: File exists\n",
            "Downloading osurankings.zip to /content\n",
            "  0% 0.00/5.00k [00:00<?, ?B/s]\n",
            "100% 5.00k/5.00k [00:00<00:00, 8.76MB/s]\n",
            "Archive:  osurankings.zip\n",
            "  inflating: osurankings/ranking.csv  \n"
          ],
          "name": "stdout"
        }
      ]
    },
    {
      "cell_type": "code",
      "metadata": {
        "id": "quAhySz0xV64",
        "colab_type": "code",
        "outputId": "3648efbe-7235-454b-bbc6-85c8cbb6de1f",
        "colab": {
          "base_uri": "https://localhost:8080/",
          "height": 343
        }
      },
      "source": [
        "# reading in data\n",
        "projectData = pd.read_csv(\"osurankings/ranking.csv\")\n",
        "projectData.head(10)"
      ],
      "execution_count": 0,
      "outputs": [
        {
          "output_type": "execute_result",
          "data": {
            "text/html": [
              "<div>\n",
              "<style scoped>\n",
              "    .dataframe tbody tr th:only-of-type {\n",
              "        vertical-align: middle;\n",
              "    }\n",
              "\n",
              "    .dataframe tbody tr th {\n",
              "        vertical-align: top;\n",
              "    }\n",
              "\n",
              "    .dataframe thead th {\n",
              "        text-align: right;\n",
              "    }\n",
              "</style>\n",
              "<table border=\"1\" class=\"dataframe\">\n",
              "  <thead>\n",
              "    <tr style=\"text-align: right;\">\n",
              "      <th></th>\n",
              "      <th>rank</th>\n",
              "      <th>country_rank</th>\n",
              "      <th>player_name</th>\n",
              "      <th>country</th>\n",
              "      <th>accuracy</th>\n",
              "      <th>play_count</th>\n",
              "      <th>level</th>\n",
              "      <th>hours</th>\n",
              "      <th>performance_points</th>\n",
              "      <th>ranked_score</th>\n",
              "      <th>ss</th>\n",
              "      <th>s</th>\n",
              "      <th>a</th>\n",
              "      <th>watched_by</th>\n",
              "      <th>total_hits</th>\n",
              "      <th>device</th>\n",
              "    </tr>\n",
              "  </thead>\n",
              "  <tbody>\n",
              "    <tr>\n",
              "      <th>0</th>\n",
              "      <td>1</td>\n",
              "      <td>1</td>\n",
              "      <td>Cookiezi</td>\n",
              "      <td>South Korea</td>\n",
              "      <td>98.86</td>\n",
              "      <td>15245</td>\n",
              "      <td>101</td>\n",
              "      <td>324</td>\n",
              "      <td>13450</td>\n",
              "      <td>22401473154</td>\n",
              "      <td>55</td>\n",
              "      <td>454</td>\n",
              "      <td>325</td>\n",
              "      <td>3057421</td>\n",
              "      <td>6372761</td>\n",
              "      <td>tablet</td>\n",
              "    </tr>\n",
              "    <tr>\n",
              "      <th>1</th>\n",
              "      <td>2</td>\n",
              "      <td>2</td>\n",
              "      <td>Angelsim</td>\n",
              "      <td>South Korea</td>\n",
              "      <td>98.87</td>\n",
              "      <td>124726</td>\n",
              "      <td>103</td>\n",
              "      <td>1457</td>\n",
              "      <td>12950</td>\n",
              "      <td>35481061465</td>\n",
              "      <td>159</td>\n",
              "      <td>1369</td>\n",
              "      <td>679</td>\n",
              "      <td>498548</td>\n",
              "      <td>29845228</td>\n",
              "      <td>mouse</td>\n",
              "    </tr>\n",
              "    <tr>\n",
              "      <th>2</th>\n",
              "      <td>3</td>\n",
              "      <td>1</td>\n",
              "      <td>Rafis</td>\n",
              "      <td>Poland</td>\n",
              "      <td>99.03</td>\n",
              "      <td>208066</td>\n",
              "      <td>103</td>\n",
              "      <td>2229</td>\n",
              "      <td>12942</td>\n",
              "      <td>36343320002</td>\n",
              "      <td>170</td>\n",
              "      <td>1654</td>\n",
              "      <td>785</td>\n",
              "      <td>1170973</td>\n",
              "      <td>35760655</td>\n",
              "      <td>tablet</td>\n",
              "    </tr>\n",
              "    <tr>\n",
              "      <th>3</th>\n",
              "      <td>4</td>\n",
              "      <td>1</td>\n",
              "      <td>Vaxei</td>\n",
              "      <td>United States</td>\n",
              "      <td>98.03</td>\n",
              "      <td>93012</td>\n",
              "      <td>101</td>\n",
              "      <td>1034</td>\n",
              "      <td>12735</td>\n",
              "      <td>18096595619</td>\n",
              "      <td>34</td>\n",
              "      <td>541</td>\n",
              "      <td>563</td>\n",
              "      <td>152551</td>\n",
              "      <td>15601281</td>\n",
              "      <td>tablet</td>\n",
              "    </tr>\n",
              "    <tr>\n",
              "      <th>4</th>\n",
              "      <td>5</td>\n",
              "      <td>1</td>\n",
              "      <td>hvick225</td>\n",
              "      <td>Taiwan</td>\n",
              "      <td>98.93</td>\n",
              "      <td>134052</td>\n",
              "      <td>102</td>\n",
              "      <td>1970</td>\n",
              "      <td>12421</td>\n",
              "      <td>47072997400</td>\n",
              "      <td>826</td>\n",
              "      <td>3466</td>\n",
              "      <td>701</td>\n",
              "      <td>2015824</td>\n",
              "      <td>22576332</td>\n",
              "      <td>tablet</td>\n",
              "    </tr>\n",
              "    <tr>\n",
              "      <th>5</th>\n",
              "      <td>6</td>\n",
              "      <td>1</td>\n",
              "      <td>filsdelama</td>\n",
              "      <td>France</td>\n",
              "      <td>98.59</td>\n",
              "      <td>114629</td>\n",
              "      <td>102</td>\n",
              "      <td>1476</td>\n",
              "      <td>12211</td>\n",
              "      <td>29533435386</td>\n",
              "      <td>196</td>\n",
              "      <td>1516</td>\n",
              "      <td>585</td>\n",
              "      <td>159116</td>\n",
              "      <td>24265869</td>\n",
              "      <td>tablet</td>\n",
              "    </tr>\n",
              "    <tr>\n",
              "      <th>6</th>\n",
              "      <td>7</td>\n",
              "      <td>1</td>\n",
              "      <td>_index</td>\n",
              "      <td>Russia</td>\n",
              "      <td>98.74</td>\n",
              "      <td>56195</td>\n",
              "      <td>102</td>\n",
              "      <td>844</td>\n",
              "      <td>11314</td>\n",
              "      <td>38146854078</td>\n",
              "      <td>426</td>\n",
              "      <td>1503</td>\n",
              "      <td>476</td>\n",
              "      <td>463361</td>\n",
              "      <td>18502111</td>\n",
              "      <td>tablet</td>\n",
              "    </tr>\n",
              "    <tr>\n",
              "      <th>7</th>\n",
              "      <td>8</td>\n",
              "      <td>1</td>\n",
              "      <td>Dustice</td>\n",
              "      <td>Germany</td>\n",
              "      <td>98.89</td>\n",
              "      <td>83839</td>\n",
              "      <td>101</td>\n",
              "      <td>1246</td>\n",
              "      <td>11208</td>\n",
              "      <td>39126859229</td>\n",
              "      <td>112</td>\n",
              "      <td>2268</td>\n",
              "      <td>1336</td>\n",
              "      <td>75861</td>\n",
              "      <td>19686899</td>\n",
              "      <td>tablet</td>\n",
              "    </tr>\n",
              "    <tr>\n",
              "      <th>8</th>\n",
              "      <td>9</td>\n",
              "      <td>1</td>\n",
              "      <td>Spare</td>\n",
              "      <td>United Kingdom</td>\n",
              "      <td>99.25</td>\n",
              "      <td>59329</td>\n",
              "      <td>101</td>\n",
              "      <td>805</td>\n",
              "      <td>11105</td>\n",
              "      <td>33756034097</td>\n",
              "      <td>308</td>\n",
              "      <td>1205</td>\n",
              "      <td>864</td>\n",
              "      <td>135613</td>\n",
              "      <td>11745064</td>\n",
              "      <td>mouse</td>\n",
              "    </tr>\n",
              "    <tr>\n",
              "      <th>9</th>\n",
              "      <td>10</td>\n",
              "      <td>2</td>\n",
              "      <td>Gayzmcgee</td>\n",
              "      <td>United States</td>\n",
              "      <td>99.23</td>\n",
              "      <td>78862</td>\n",
              "      <td>101</td>\n",
              "      <td>1058</td>\n",
              "      <td>11054</td>\n",
              "      <td>21973937247</td>\n",
              "      <td>29</td>\n",
              "      <td>658</td>\n",
              "      <td>716</td>\n",
              "      <td>226319</td>\n",
              "      <td>22604434</td>\n",
              "      <td>tablet</td>\n",
              "    </tr>\n",
              "  </tbody>\n",
              "</table>\n",
              "</div>"
            ],
            "text/plain": [
              "   rank  country_rank player_name  ... watched_by  total_hits  device\n",
              "0     1             1    Cookiezi  ...    3057421     6372761  tablet\n",
              "1     2             2    Angelsim  ...     498548    29845228   mouse\n",
              "2     3             1       Rafis  ...    1170973    35760655  tablet\n",
              "3     4             1       Vaxei  ...     152551    15601281  tablet\n",
              "4     5             1    hvick225  ...    2015824    22576332  tablet\n",
              "5     6             1  filsdelama  ...     159116    24265869  tablet\n",
              "6     7             1      _index  ...     463361    18502111  tablet\n",
              "7     8             1     Dustice  ...      75861    19686899  tablet\n",
              "8     9             1       Spare  ...     135613    11745064   mouse\n",
              "9    10             2   Gayzmcgee  ...     226319    22604434  tablet\n",
              "\n",
              "[10 rows x 16 columns]"
            ]
          },
          "metadata": {
            "tags": []
          },
          "execution_count": 74
        }
      ]
    }
  ]
}