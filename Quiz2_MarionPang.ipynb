{
  "nbformat": 4,
  "nbformat_minor": 0,
  "metadata": {
    "colab": {
      "name": "Quiz2_MarionPang.ipynb",
      "version": "0.3.2",
      "provenance": [],
      "include_colab_link": true
    },
    "kernelspec": {
      "name": "python3",
      "display_name": "Python 3"
    }
  },
  "cells": [
    {
      "cell_type": "markdown",
      "metadata": {
        "id": "view-in-github",
        "colab_type": "text"
      },
      "source": [
        "<a href=\"https://colab.research.google.com/github/gnaprs/DataScience_MarionPang/blob/master/Quiz2_MarionPang.ipynb\" target=\"_parent\"><img src=\"https://colab.research.google.com/assets/colab-badge.svg\" alt=\"Open In Colab\"/></a>"
      ]
    },
    {
      "cell_type": "markdown",
      "metadata": {
        "id": "3zGyyTe-lHNS",
        "colab_type": "text"
      },
      "source": [
        "# Quiz 2\n",
        "## Marion Pang (gnaprs)"
      ]
    },
    {
      "cell_type": "markdown",
      "metadata": {
        "id": "vCypfenhWZ_b",
        "colab_type": "text"
      },
      "source": [
        "### Question 1\n",
        "\n",
        "Consider a minimizing $\\sum_{i=1}^{n}{(Y_i-\\beta_1X_{i1}-\\beta_2X_{i2}-...-\\beta_pX_{ip})^2}$ where each $X_{ik}$ of the form $X_{ik}=I(i\\in G_k)$.\n",
        "\n",
        "That is, each $X_{ik}$ is 1 if unit $i$ is in group $k$. For example, $i$ could be a person and group $k$ is a characteristic, like a category of sleep disorder (none, mild, moderate, severe) and $Y_i$ is an outcome, say blood pressure.  Argue that the prediction for a person in group $k$ is $\\bar{Y}_k$. That is, the outcome mean for subjects in group $k$. The $Y_i$ were not centered.  (Hint, try breaking up the sum into groups. Use any fact we’ve established in class.)\n",
        "\n",
        "#### Answer:\n",
        "We can rewrite $X_i$ as\n",
        "$$\\begin{equation}\n",
        "  X_{i1}=\n",
        "    \\begin{cases}\n",
        "      1 & \\text{$G_1$}\\\\\n",
        "      0 & \\text{Otherwise}\n",
        "    \\end{cases}       \n",
        "\\end{equation}$$ \n",
        "$$\\begin{equation}\n",
        "  X_{i2}=\n",
        "    \\begin{cases}\n",
        "      1 & \\text{$G_2$}\\\\\n",
        "      0 & \\text{Otherwise}\n",
        "    \\end{cases}       \n",
        "\\end{equation}$$\n",
        "$$\\vdots$$\n",
        "$$\\begin{equation}\n",
        "  X_{ik}=\n",
        "    \\begin{cases}\n",
        "      1 & \\text{$G_k$}\\\\\n",
        "      0 & \\text{Otherwise}\n",
        "    \\end{cases}       \n",
        "\\end{equation}$$\n",
        "\n",
        "Splitting up the sums, we obtain\n",
        "\n",
        "$$\\sum_{G_1}(Y_i-\\beta_1)^2+\\sum_{G_2}(Y_i-\\beta_2)^2+...+\\sum_{G_k}(Y_i-\\beta_k)^2$$\n",
        "\n",
        "To minimize the total sum, we can minimize the sum of each group with its best predictor. From the formula for $\\hat{\\beta}$, subbing in $x_i = 1$ we have\n",
        "$$\\hat{\\beta}=\\frac{\\sum y_ix_i}{\\sum {x_i}^2}=\\frac{\\sum y_i}{n}=\\bar{y}$$\n",
        "\n",
        "Thus, we can obtain $\\hat{\\beta}$ for each group\n",
        "$$\\therefore \\hat{\\beta}_1=\\bar{y}_1,\\hat{\\beta}_2=\\bar{y}_2,...,\\hat{\\beta}_k=\\bar{y}_k$$"
      ]
    },
    {
      "cell_type": "markdown",
      "metadata": {
        "id": "QEmaFlkEcGIt",
        "colab_type": "text"
      },
      "source": [
        "### Question 2\n",
        "\n",
        "Load in the Kirby 21 data. Use a linear regression model to predict the left diencephalon volume from the right (type I level I). Report your regression coefficients and the in-sample error rate. (Don’t split the data in this example, there aren’t enough subjects for that.)  The in sample error rate is\n",
        "$$\\sum_{i=1}^{n}(Y_i-\\hat{\\beta}_0-\\hat{\\beta}_1X_i)^2$$ in the data used for fitting. (The sum of the squared errors for the observed data.)  Create a scatterplot of the data and show your fitted regression line.\n",
        "\n",
        "#### Code for Q2"
      ]
    },
    {
      "cell_type": "code",
      "metadata": {
        "id": "_ytAkAoFcF6G",
        "colab_type": "code",
        "colab": {}
      },
      "source": [
        "# import libraries\n",
        "import pandas as pd\n",
        "import numpy as np\n",
        "import seaborn as sns\n",
        "import matplotlib.pyplot as plt\n",
        "from scipy import stats as st\n",
        "\n",
        "! if [ ! -e kirby21.csv ] ; \\\n",
        "  then wget https://raw.githubusercontent.com/bcaffo/ds4bme_intro/master/data/kirby21.csv; \\\n",
        "fi"
      ],
      "execution_count": 0,
      "outputs": []
    },
    {
      "cell_type": "code",
      "metadata": {
        "id": "0DtDmEAVdw12",
        "colab_type": "code",
        "colab": {
          "base_uri": "https://localhost:8080/",
          "height": 323
        },
        "outputId": "de6d4cc4-50c7-4474-befc-c70ab1752a35"
      },
      "source": [
        "# data manipulation\n",
        "data1 = pd.read_csv(\"/content/kirby21.csv\").drop(['Unnamed: 0', 'rawid', 'min', 'max', 'mean', 'std'], axis=1)\n",
        "\n",
        "volL=data1[data1['roi']==\"Diencephalon_L\"][\"volume\"].values\n",
        "volR=data1[data1['roi']==\"Diencephalon_R\"][\"volume\"].values\n",
        "\n",
        "# linear regression, predicting left from right\n",
        "slope, intercept, r_value, p_value, std_err=st.linregress(x = volR, y = volL)\n",
        "print(st.linregress(x = volR, y = volL))\n",
        "sns.regplot(volR, volL)\n",
        "\n",
        "volLNew = intercept + slope * volR\n",
        "\n",
        "print(\"In sample error rate: \", np.sum((volL - volLNew)**2))"
      ],
      "execution_count": 48,
      "outputs": [
        {
          "output_type": "stream",
          "text": [
            "LinregressResult(slope=1.0675677731655153, intercept=-694.180922147847, rvalue=0.9627048718978265, pvalue=1.157832145522277e-11, stderr=0.07071630900773986)\n",
            "In sample error rate:  832740.3005383221\n"
          ],
          "name": "stdout"
        },
        {
          "output_type": "display_data",
          "data": {
            "image/png": "[encoded data removed]",
            "text/plain": [
              "<Figure size 432x288 with 1 Axes>"
            ]
          },
          "metadata": {
            "tags": []
          }
        }
      ]
    },
    {
      "cell_type": "markdown",
      "metadata": {
        "id": "wgR-MIG8csUl",
        "colab_type": "text"
      },
      "source": [
        "### Question 3\n",
        "Write a two sentence proposal for a project (you won’t be held to this) where you use data to either predict or classify an outcome measure. Some ideas:\n",
        "1. Predicting health insurance coverage\n",
        "2. Firearm legislation and shootings\n",
        "3. Predicting air pollution outcomes\n",
        "4. Predicting image contents\n",
        "5. Fashion mnist\n",
        "Or bring your own. Try searching around for datasets. Keep it simple and not too ambitious. Don’t do MNIST! (handwritten digits)\n"
      ]
    },
    {
      "cell_type": "markdown",
      "metadata": {
        "id": "JGda_OMKlSQU",
        "colab_type": "text"
      },
      "source": [
        "#### Answer\n",
        "Fashion mnist is a directory of 70000 (10,000 test, 60,000 training) images corresponding to a specific type of clothing. Fashion mnist is being used as a new benchmarking dataset for image classification machine learning algorithms, and it'll be interesting to apply some of our newly learnt skills to tackle this problem at the end of the semester. The goal of the project would be to correctly identify the correct type of clothing from 10 different possible clothing categories from a BW small clothing image."
      ]
    }
  ]
}