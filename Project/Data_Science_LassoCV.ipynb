{
 "cells": [
  {
   "cell_type": "code",
   "execution_count": 2,
   "metadata": {},
   "outputs": [],
   "source": [
    "# import libraries\n",
    "import numpy as np\n",
    "from scipy import stats as st\n",
    "import pandas as pd\n",
    "import seaborn as sns\n",
    "import matplotlib.pyplot as plt\n",
    "import statsmodels.formula.api as smf\n",
    "import statsmodels as sm\n",
    "import sklearn as skl\n",
    "import sklearn.metrics as skm\n",
    "from sklearn.linear_model import LogisticRegression\n",
    "from sklearn.model_selection import KFold\n",
    "from sklearn.model_selection import StratifiedKFold\n",
    "\n",
    "# access files stored on Google Drive from Colab\n",
    "#from google.colab import drive\n",
    "#drive.mount('gdrive/')\n",
    "\n"
   ]
  },
  {
   "cell_type": "code",
   "execution_count": 22,
   "metadata": {},
   "outputs": [],
   "source": [
    "# read in datasets\n",
    "glmTest = pd.read_csv(\"glm.test.data.csv\")\n",
    "glmTrain = pd.read_csv(\"glm.training.data.csv\")\n",
    "testOnsetini = pd.read_csv(\"test.onsets.csv\")\n",
    "testTSini = pd.read_csv(\"timestamps.test.csv\")\n",
    "\n",
    "# create duplicates of datasets\n",
    "testTS=testTSini\n",
    "testOnset=testOnsetini\n",
    "glmTrain2=glmTrain\n",
    "\n",
    "# filtering out bpm <=20 or > 500, since lowest and highest ventricular heart rate ever recorded is 28 and 480 respectively\n",
    "glmTrain2=glmTrain2.drop(glmTrain2[(glmTrain2['x.hr']<=20) | (glmTrain2['x.hr']>500)].index) \n",
    "# filter out duplicate data from same sample\n",
    "#keys=glmTrain2.keys().drop('Unnamed: 0','y').tolist()\n",
    "#glmTrain2=glmTrain2.groupby(keys).mean().reset_index(level=list(range(0,len(keys))))\n",
    "# filter fahrenheit: highest recorded 114F (45C) lowest 57F\n",
    "glmTrain2['x.temp']=np.where(glmTrain2['x.temp']>50, (glmTrain2['x.temp']-32)*5/9, glmTrain2['x.temp'])\n",
    "\n",
    "# normalize data\n",
    "scaler = skl.preprocessing.StandardScaler()\n",
    "x_train = glmTrain2.drop([\"Unnamed: 0\",\"y\"],axis=1)\n",
    "x_trainDM = scaler.fit_transform(glmTrain2.drop([\"Unnamed: 0\",\"y\"],axis=1))\n",
    "y_train=glmTrain2[\"y\"].values\n",
    "\n",
    "# make empty AUC array to store lambda and AUC values\n",
    "allAUC=[]"
   ]
  },
  {
   "cell_type": "code",
   "execution_count": 8,
   "metadata": {},
   "outputs": [
    {
     "name": "stderr",
     "output_type": "stream",
     "text": [
      "D:\\Anaconda3\\lib\\site-packages\\sklearn\\linear_model\\coordinate_descent.py:475: ConvergenceWarning: Objective did not converge. You might want to increase the number of iterations. Duality gap: 358.6415292518941, tolerance: 16.309191914069316\n",
      "  positive)\n"
     ]
    },
    {
     "name": "stdout",
     "output_type": "stream",
     "text": [
      "0.0001 [ 0.04369867 -0.00474048 -0.00033814 -0.0124157   0.01357826  0.00049514\n",
      " -0.00026538  0.02912454  0.01409719 -0.22452149 -0.00057298 -0.04468701\n",
      " -0.          0.04288239  0.         -0.00068202  0.0510844  -0.00796961\n",
      " -0.0067344   0.00746854 -0.00024765 -0.02863265  0.03826192 -0.19777123\n",
      "  0.12088042  0.02384399  0.00193068  0.00879402]\n",
      "0.00021544346900318845 [ 4.35329716e-02 -4.67386890e-03 -2.57757510e-04 -1.23345363e-02\n",
      "  1.34472545e-02  3.71074208e-04 -1.49881652e-04  2.90882772e-02\n",
      "  1.40237722e-02 -2.23996956e-01 -4.27740079e-04 -3.20372644e-02\n",
      " -0.00000000e+00  4.28752781e-02 -0.00000000e+00 -5.51589111e-04\n",
      "  3.15479162e-02 -7.86157825e-03  0.00000000e+00  7.41350377e-03\n",
      " -0.00000000e+00 -2.85832066e-02  3.80261959e-02 -1.97306089e-01\n",
      "  1.20887551e-01  2.38190197e-02  2.97855663e-03  8.73561057e-03]\n",
      "0.00046415888336127773 [ 4.31570033e-02 -4.52978684e-03 -8.42300778e-05 -1.21523123e-02\n",
      "  1.31591171e-02  1.04160239e-04 -0.00000000e+00  2.90169000e-02\n",
      "  1.38702908e-02 -2.22858386e-01 -1.06929337e-04 -4.10694618e-03\n",
      " -0.00000000e+00  4.28586310e-02 -0.00000000e+00 -2.70447122e-04\n",
      "  3.66022970e-03 -7.62360939e-03  0.00000000e+00  7.31269605e-03\n",
      " -0.00000000e+00 -2.84749779e-02  3.75191292e-02 -1.96309550e-01\n",
      "  1.20900409e-01  2.37604266e-02  5.32330152e-03  8.60369918e-03]\n",
      "0.001 [ 4.27716614e-02 -4.21983190e-03 -0.00000000e+00 -1.16954990e-02\n",
      "  1.26661645e-02  0.00000000e+00 -0.00000000e+00  2.85754024e-02\n",
      "  1.34784077e-02 -2.19963327e-01 -0.00000000e+00 -1.30659208e-04\n",
      " -0.00000000e+00  4.26722034e-02 -0.00000000e+00 -0.00000000e+00\n",
      "  0.00000000e+00 -7.12244319e-03 -0.00000000e+00  6.69690239e-03\n",
      " -0.00000000e+00 -2.82521553e-02  3.65902557e-02 -1.93536870e-01\n",
      "  1.20772529e-01  2.34751053e-02  5.27236096e-03  8.09318128e-03]\n",
      "0.002154434690031882 [ 0.04199294 -0.00355197 -0.         -0.01069309  0.01162232  0.\n",
      " -0.          0.0275739   0.01263642 -0.21373441 -0.         -0.\n",
      " -0.          0.04224415 -0.         -0.         -0.         -0.006046\n",
      " -0.          0.00531409 -0.         -0.02777269  0.03461882 -0.18751891\n",
      "  0.12046973  0.02284201  0.00439769  0.0069673 ]\n",
      "0.004641588833612777 [ 0.04031804 -0.0021131  -0.         -0.00853338  0.0093742   0.\n",
      "  0.          0.02541495  0.010822   -0.2003137  -0.         -0.\n",
      " -0.          0.04132109 -0.         -0.         -0.         -0.00372693\n",
      " -0.          0.00233297 -0.         -0.02673987  0.03037305 -0.17455138\n",
      "  0.11981583  0.02147864  0.00248719  0.00454141]\n",
      "0.01 [ 0.03668495 -0.         -0.         -0.00393042  0.00455751  0.\n",
      "  0.          0.02097333  0.00696106 -0.17129505 -0.         -0.\n",
      " -0.          0.03909717 -0.         -0.          0.         -0.\n",
      " -0.          0.         -0.         -0.02447191  0.02140981 -0.14678329\n",
      "  0.11833532  0.01791735  0.          0.        ]\n",
      "0.021544346900318822 [ 0.02859844 -0.         -0.         -0.          0.         -0.\n",
      "  0.          0.01212518  0.         -0.10907544 -0.         -0.\n",
      " -0.          0.03315424  0.         -0.          0.         -0.\n",
      " -0.          0.         -0.         -0.01884717  0.00287938 -0.08807822\n",
      "  0.1126546   0.00679218  0.          0.        ]\n",
      "0.046415888336127774 [ 0.00689969 -0.         -0.         -0.          0.          0.\n",
      "  0.          0.          0.         -0.01548889  0.         -0.\n",
      "  0.          0.01678969  0.         -0.          0.         -0.\n",
      "  0.          0.         -0.         -0.          0.         -0.\n",
      "  0.09407788  0.          0.          0.        ]\n",
      "0.1 [ 0.         -0.         -0.         -0.          0.         -0.\n",
      "  0.          0.          0.         -0.         -0.         -0.\n",
      " -0.          0.          0.         -0.          0.         -0.\n",
      " -0.          0.         -0.         -0.          0.         -0.\n",
      "  0.04130217  0.          0.          0.        ]\n",
      "CV [ 0.03823611 -0.00023868 -0.         -0.00525945  0.00625671  0.\n",
      "  0.          0.02248998  0.00847233 -0.18197828 -0.         -0.\n",
      " -0.          0.03822455 -0.         -0.          0.         -0.00066265\n",
      " -0.          0.         -0.         -0.02448746  0.0244634  -0.15714333\n",
      "  0.11897023  0.01971809  0.          0.00123933]\n"
     ]
    },
    {
     "data": {
      "image/png": "[encoded data removed]",
      "text/plain": [
       "<Figure size 432x288 with 1 Axes>"
      ]
     },
     "metadata": {
      "needs_background": "light"
     },
     "output_type": "display_data"
    }
   ],
   "source": [
    "import matplotlib.pyplot as plt\n",
    "import numpy as np\n",
    "\n",
    "import sklearn.datasets\n",
    "import sklearn.model_selection as cv\n",
    "from sklearn import linear_model\n",
    "\n",
    "X = x_trainDM\n",
    "y = y_train\n",
    "X_train, X_test, y_train, y_test = cv.train_test_split(X, y, test_size=0.25, random_state=0)\n",
    "\n",
    "alphas = np.logspace(-4, -1, 10)\n",
    "scores = np.empty_like(alphas)\n",
    "for i,a in enumerate(alphas):\n",
    "    lasso = linear_model.Lasso(max_iter=2000)\n",
    "    lasso.set_params(alpha=a)\n",
    "    lasso.fit(X_train, y_train)\n",
    "    scores[i] = lasso.score(X_test, y_test)\n",
    "    print(a, lasso.coef_)\n",
    "    \n",
    "lassocv = linear_model.LassoCV(cv=10,max_iter=2000)\n",
    "lassocv.fit(X, y)\n",
    "lassocv_score = lassocv.score(X, y)\n",
    "lassocv_alpha = lassocv.alpha_\n",
    "print('CV', lassocv.coef_)\n",
    "\n",
    "plt.plot(alphas, scores, '-ko')\n",
    "plt.axhline(lassocv_score, color='b', ls='--')\n",
    "plt.axvline(lassocv_alpha, color='b', ls='--')\n",
    "plt.xlabel(r'$\\alpha$')\n",
    "plt.ylabel('Score')\n",
    "plt.xscale('log')\n",
    "sns.despine(offset=15)"
   ]
  },
  {
   "cell_type": "code",
   "execution_count": 10,
   "metadata": {},
   "outputs": [
    {
     "name": "stdout",
     "output_type": "stream",
     "text": [
      "[ 3.79879645e-02 -1.16472761e-04 -0.00000000e+00 -5.62474625e-03\n",
      "  6.26156883e-03  0.00000000e+00  0.00000000e+00  2.25251131e-02\n",
      "  8.30618865e-03 -1.81693904e-01 -0.00000000e+00 -0.00000000e+00\n",
      " -0.00000000e+00  3.99951641e-02 -0.00000000e+00 -0.00000000e+00\n",
      "  0.00000000e+00 -5.12443410e-04 -0.00000000e+00  0.00000000e+00\n",
      " -0.00000000e+00 -2.52948198e-02  2.44943685e-02 -1.56595134e-01\n",
      "  1.18943971e-01  1.95693861e-02  1.44677142e-05  1.20616404e-03]\n"
     ]
    }
   ],
   "source": [
    "lasso = linear_model.Lasso(max_iter=2000)\n",
    "lasso.set_params(alpha=lassocv_alpha)\n",
    "lasso.fit(X_train, y_train)\n",
    "scores[i] = lasso.score(X_test, y_test)\n",
    "print(lasso.coef_)\n",
    "\n",
    "\n"
   ]
  },
  {
   "cell_type": "code",
   "execution_count": 12,
   "metadata": {},
   "outputs": [],
   "source": [
    "# create duplicates of datasets\n",
    "glmTest2=glmTest\n",
    "\n",
    "# filtering out bpm <=20 or > 500, since lowest and highest ventricular heart rate ever recorded is 28 and 480 respectively\n",
    "glmTest2=glmTest2.drop(glmTest2[(glmTest2['hr']<=20) | (glmTest2['hr']>500)].index) \n",
    "# filter out duplicate data from same sample\n",
    "#keys=glmTrain2.keys().drop('Unnamed: 0','y').tolist()\n",
    "#glmTrain2=glmTrain2.groupby(keys).mean().reset_index(level=list(range(0,len(keys))))\n",
    "# filter fahrenheit: highest recorded 114F (45C) lowest 57F\n",
    "glmTest2['temp']=np.where(glmTest2['temp']>50, (glmTest2['temp']-32)*5/9, glmTest2['temp'])\n",
    "\n",
    "# normalize data\n",
    "scaler = skl.preprocessing.StandardScaler()\n",
    "x_test = glmTest2.drop([\"Unnamed: 0\",\"y\"],axis=1)\n",
    "x_testDM = scaler.fit_transform(glmTest2.drop([\"Unnamed: 0\",\"y\",\"patient\"],axis=1))\n",
    "y_test=glmTest2[\"y\"].values"
   ]
  },
  {
   "cell_type": "code",
   "execution_count": 26,
   "metadata": {},
   "outputs": [
    {
     "ename": "ValueError",
     "evalue": "Classification metrics can't handle a mix of binary and continuous targets",
     "output_type": "error",
     "traceback": [
      "\u001b[1;31m---------------------------------------------------------------------------\u001b[0m",
      "\u001b[1;31mValueError\u001b[0m                                Traceback (most recent call last)",
      "\u001b[1;32m<ipython-input-26-279088314880>\u001b[0m in \u001b[0;36m<module>\u001b[1;34m\u001b[0m\n\u001b[0;32m     13\u001b[0m \u001b[1;31m# calculate AUC\u001b[0m\u001b[1;33m\u001b[0m\u001b[1;33m\u001b[0m\u001b[1;33m\u001b[0m\u001b[0m\n\u001b[0;32m     14\u001b[0m \u001b[0mroc_auc\u001b[0m \u001b[1;33m=\u001b[0m \u001b[0mskm\u001b[0m\u001b[1;33m.\u001b[0m\u001b[0mroc_auc_score\u001b[0m\u001b[1;33m(\u001b[0m\u001b[0my_train\u001b[0m\u001b[1;33m,\u001b[0m\u001b[0mpred_probas_\u001b[0m\u001b[1;33m)\u001b[0m\u001b[1;33m\u001b[0m\u001b[1;33m\u001b[0m\u001b[0m\n\u001b[1;32m---> 15\u001b[1;33m \u001b[0mprint\u001b[0m\u001b[1;33m(\u001b[0m\u001b[0mskm\u001b[0m\u001b[1;33m.\u001b[0m\u001b[0maccuracy_score\u001b[0m\u001b[1;33m(\u001b[0m\u001b[0my_train\u001b[0m\u001b[1;33m,\u001b[0m \u001b[0mlasso\u001b[0m\u001b[1;33m.\u001b[0m\u001b[0mpredict\u001b[0m\u001b[1;33m(\u001b[0m\u001b[0mx_trainDM\u001b[0m\u001b[1;33m)\u001b[0m\u001b[1;33m)\u001b[0m\u001b[1;33m)\u001b[0m\u001b[1;33m\u001b[0m\u001b[1;33m\u001b[0m\u001b[0m\n\u001b[0m\u001b[0;32m     16\u001b[0m \u001b[0mprint\u001b[0m\u001b[1;33m(\u001b[0m\u001b[1;36m1\u001b[0m\u001b[1;33m-\u001b[0m\u001b[0mnp\u001b[0m\u001b[1;33m.\u001b[0m\u001b[0msum\u001b[0m\u001b[1;33m(\u001b[0m\u001b[0my_train\u001b[0m\u001b[1;33m)\u001b[0m\u001b[1;33m/\u001b[0m\u001b[0my_train\u001b[0m\u001b[1;33m.\u001b[0m\u001b[0mshape\u001b[0m\u001b[1;33m[\u001b[0m\u001b[1;36m0\u001b[0m\u001b[1;33m]\u001b[0m\u001b[1;33m)\u001b[0m\u001b[1;33m\u001b[0m\u001b[1;33m\u001b[0m\u001b[0m\n\u001b[0;32m     17\u001b[0m \u001b[1;33m\u001b[0m\u001b[0m\n",
      "\u001b[1;32mD:\\Anaconda3\\lib\\site-packages\\sklearn\\metrics\\classification.py\u001b[0m in \u001b[0;36maccuracy_score\u001b[1;34m(y_true, y_pred, normalize, sample_weight)\u001b[0m\n\u001b[0;32m    174\u001b[0m \u001b[1;33m\u001b[0m\u001b[0m\n\u001b[0;32m    175\u001b[0m     \u001b[1;31m# Compute accuracy for each possible representation\u001b[0m\u001b[1;33m\u001b[0m\u001b[1;33m\u001b[0m\u001b[1;33m\u001b[0m\u001b[0m\n\u001b[1;32m--> 176\u001b[1;33m     \u001b[0my_type\u001b[0m\u001b[1;33m,\u001b[0m \u001b[0my_true\u001b[0m\u001b[1;33m,\u001b[0m \u001b[0my_pred\u001b[0m \u001b[1;33m=\u001b[0m \u001b[0m_check_targets\u001b[0m\u001b[1;33m(\u001b[0m\u001b[0my_true\u001b[0m\u001b[1;33m,\u001b[0m \u001b[0my_pred\u001b[0m\u001b[1;33m)\u001b[0m\u001b[1;33m\u001b[0m\u001b[1;33m\u001b[0m\u001b[0m\n\u001b[0m\u001b[0;32m    177\u001b[0m     \u001b[0mcheck_consistent_length\u001b[0m\u001b[1;33m(\u001b[0m\u001b[0my_true\u001b[0m\u001b[1;33m,\u001b[0m \u001b[0my_pred\u001b[0m\u001b[1;33m,\u001b[0m \u001b[0msample_weight\u001b[0m\u001b[1;33m)\u001b[0m\u001b[1;33m\u001b[0m\u001b[1;33m\u001b[0m\u001b[0m\n\u001b[0;32m    178\u001b[0m     \u001b[1;32mif\u001b[0m \u001b[0my_type\u001b[0m\u001b[1;33m.\u001b[0m\u001b[0mstartswith\u001b[0m\u001b[1;33m(\u001b[0m\u001b[1;34m'multilabel'\u001b[0m\u001b[1;33m)\u001b[0m\u001b[1;33m:\u001b[0m\u001b[1;33m\u001b[0m\u001b[1;33m\u001b[0m\u001b[0m\n",
      "\u001b[1;32mD:\\Anaconda3\\lib\\site-packages\\sklearn\\metrics\\classification.py\u001b[0m in \u001b[0;36m_check_targets\u001b[1;34m(y_true, y_pred)\u001b[0m\n\u001b[0;32m     79\u001b[0m     \u001b[1;32mif\u001b[0m \u001b[0mlen\u001b[0m\u001b[1;33m(\u001b[0m\u001b[0my_type\u001b[0m\u001b[1;33m)\u001b[0m \u001b[1;33m>\u001b[0m \u001b[1;36m1\u001b[0m\u001b[1;33m:\u001b[0m\u001b[1;33m\u001b[0m\u001b[1;33m\u001b[0m\u001b[0m\n\u001b[0;32m     80\u001b[0m         raise ValueError(\"Classification metrics can't handle a mix of {0} \"\n\u001b[1;32m---> 81\u001b[1;33m                          \"and {1} targets\".format(type_true, type_pred))\n\u001b[0m\u001b[0;32m     82\u001b[0m \u001b[1;33m\u001b[0m\u001b[0m\n\u001b[0;32m     83\u001b[0m     \u001b[1;31m# We can't have more than one value on y_type => The set is no more needed\u001b[0m\u001b[1;33m\u001b[0m\u001b[1;33m\u001b[0m\u001b[1;33m\u001b[0m\u001b[0m\n",
      "\u001b[1;31mValueError\u001b[0m: Classification metrics can't handle a mix of binary and continuous targets"
     ]
    }
   ],
   "source": [
    "pred_probas_ = lasso.predict(x_trainDM)\n",
    "# Compute ROC curve and area the curve\n",
    "fpr, tpr, thresholds = skm.roc_curve(y_train, pred_probas_)\n",
    "\n",
    "# find shortest distance to tpr=1,fpr=0 to determine optimal threshold\n",
    "roc_values=np.transpose(np.vstack((fpr,tpr)))\n",
    "dist=np.empty((roc_values.shape[0],1))\n",
    "for i in range(0,roc_values.shape[0]):\n",
    "    dist[i]=np.linalg.norm((0,1)-roc_values[i])\n",
    "x_coord = roc_values[np.argmin(dist)][0]\n",
    "y_coord = roc_values[np.argmin(dist)][1]\n",
    "\n",
    "# calculate AUC\n",
    "roc_auc = skm.roc_auc_score(y_train,pred_probas_)\n",
    "print(skm.accuracy_score(y_train, lasso.predict(x_trainDM)))\n",
    "print(1-np.sum(y_train)/y_train.shape[0])\n",
    "\n",
    "# plot ROC curve\n",
    "plt.plot(fpr, tpr, lw=1, label='Optimized AUC = %0.2f' % (roc_auc))\n",
    "plt.xlim([0, 1])\n",
    "plt.ylim([0, 1])\n",
    "plt.xlabel('False Positive Rate')\n",
    "plt.ylabel('True Positive Rate')\n",
    "plt.title('ROC Curve for test data at optimal lambda =%0.2f' % lassocv_alpha)\n",
    "plt.legend(loc=\"lower right\")\n",
    "plt.plot([0, 1], [0, 1], linestyle='--', lw=2, color='r', label='Chance', alpha=.8)\n",
    "plt.plot(x_coord,y_coord,'ko',label='Operating Point')\n",
    "\n",
    "plt.text(x_coord, y_coord, '({}, {})'.format(round(x_coord,5), round(y_coord,5)))\n",
    "plt.show()"
   ]
  },
  {
   "cell_type": "code",
   "execution_count": 25,
   "metadata": {},
   "outputs": [
    {
     "data": {
      "text/plain": [
       "(1576071, 28)"
      ]
     },
     "execution_count": 25,
     "metadata": {},
     "output_type": "execute_result"
    }
   ],
   "source": [
    "x_trainDM.shape"
   ]
  }
 ],
 "metadata": {
  "kernelspec": {
   "display_name": "Python 3",
   "language": "python",
   "name": "python3"
  },
  "language_info": {
   "codemirror_mode": {
    "name": "ipython",
    "version": 3
   },
   "file_extension": ".py",
   "mimetype": "text/x-python",
   "name": "python",
   "nbconvert_exporter": "python",
   "pygments_lexer": "ipython3",
   "version": "3.7.4"
  }
 },
 "nbformat": 4,
 "nbformat_minor": 4
}
